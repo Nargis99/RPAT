{
 "cells": [
  {
   "cell_type": "code",
   "execution_count": 1,
   "id": "d4aceb28",
   "metadata": {},
   "outputs": [],
   "source": [
    "# Importing Libraries\n",
    "import pyodbc"
   ]
  },
  {
   "cell_type": "code",
   "execution_count": null,
   "id": "62220ea4",
   "metadata": {},
   "outputs": [],
   "source": [
    "# Connecting to SQL Server\n",
    "DB = {'servername': 'AW02PSQLC007',\n",
    "      'database': 'India_GTSG'}\n",
    "\n",
    "# Create the connection\n",
    "conn = pyodbc.connect('DRIVER={SQL Server}; SERVER=' + DB['servername'] + ';DATABASE=' + DB['database'] + ';Trusted_Connection=yes')"
   ]
  },
  {
   "cell_type": "code",
   "execution_count": null,
   "id": "346ed44b",
   "metadata": {},
   "outputs": [],
   "source": [
    "cursor = conn.cursor()"
   ]
  },
  {
   "cell_type": "code",
   "execution_count": null,
   "id": "8c0c698f",
   "metadata": {},
   "outputs": [],
   "source": [
    "# SQL commands to execute\n",
    "sql_queries = []"
   ]
  },
  {
   "cell_type": "code",
   "execution_count": null,
   "id": "28d6f5c7",
   "metadata": {},
   "outputs": [],
   "source": [
    "for query in sql_queries:\n",
    "    cursor.execute(query)\n",
    "    conn.commit(i)"
   ]
  }
 ],
 "metadata": {
  "kernelspec": {
   "display_name": "Python 3 (ipykernel)",
   "language": "python",
   "name": "python3"
  },
  "language_info": {
   "codemirror_mode": {
    "name": "ipython",
    "version": 3
   },
   "file_extension": ".py",
   "mimetype": "text/x-python",
   "name": "python",
   "nbconvert_exporter": "python",
   "pygments_lexer": "ipython3",
   "version": "3.10.12"
  }
 },
 "nbformat": 4,
 "nbformat_minor": 5
}
