{
 "cells": [
  {
   "cell_type": "markdown",
   "id": "6185e2b8",
   "metadata": {},
   "source": [
    "## Connecting India_GTSG Database"
   ]
  },
  {
   "cell_type": "code",
   "execution_count": 1,
   "id": "bba123dd",
   "metadata": {},
   "outputs": [],
   "source": [
    "import pyodbc"
   ]
  },
  {
   "cell_type": "code",
   "execution_count": 2,
   "id": "37f97c8a",
   "metadata": {},
   "outputs": [],
   "source": [
    "DB = {'servername': 'AW02PSQLC007',\n",
    "    'database': 'India_GTSG'}\n",
    "conn = pyodbc.connect('DRIVER={SQL Server}; SERVER=' + DB['servername'] + ';DATABASE=' + DB['database'] + ';Trusted_Connection=yes')"
   ]
  },
  {
   "cell_type": "code",
   "execution_count": 3,
   "id": "baf686eb",
   "metadata": {},
   "outputs": [],
   "source": [
    "mycursor = conn.cursor()"
   ]
  },
  {
   "cell_type": "markdown",
   "id": "9b576a42",
   "metadata": {},
   "source": [
    "## RFT_QUERY"
   ]
  },
  {
   "cell_type": "code",
   "execution_count": 4,
   "id": "a7daafab",
   "metadata": {},
   "outputs": [],
   "source": [
    "## Adding rft excel data will be done in sql sever only"
   ]
  },
  {
   "cell_type": "code",
   "execution_count": 5,
   "id": "9e0fdf56",
   "metadata": {},
   "outputs": [],
   "source": [
    "rft_query = [\"\"\"SELECT * INTO RFT_P6 FROM Sheet1$\"\"\",\n",
    "             \"\"\"DELETE from rft_p6 where \"Resource (Utilization Target %)/Job Code\" like '%Inactive%';\"\"\",\n",
    "             \"\"\"ALTER TABLE rft_p6 ADD Resource_Name VARCHAR(255);\"\"\",\n",
    "             \"\"\"ALTER TABLE rft_p6 ADD Employee_code VARCHAR(255);\"\"\",\n",
    "             \"\"\"ALTER TABLE rft_p6 ADD \"Project Number\" VARCHAR(255);\"\"\",\n",
    "             \"\"\"ALTER TABLE rft_p6 ADD Utilization_Target INT;\"\"\", \n",
    "             \"\"\"ALTER TABLE rft_p6 ADD Utilization_Target_percent VARCHAR(255);\"\"\",\n",
    "             \"\"\"UPDATE rft_p6 set \"Project Number\"=CASE WHEN \"Project\" LIKE '%-%' then  RIGHT(\"Project\", CHARINDEX(' ', (reverse(\"Project\")))-1) ELSE 'NA' END\"\"\",\n",
    "             \"\"\"UPDATE rft_p6 SET Resource_Name=CASE\n",
    "                WHEN \"Resource (Utilization Target %)/Job Code\" LIKE '%-%' \n",
    "                THEN LEFT(\"Resource (Utilization Target %)/Job Code\", \n",
    "                CHARINDEX(RIGHT(\"Resource (Utilization Target %)/Job Code\", \n",
    "                CHARINDEX('-', (reverse(\"Resource (Utilization Target %)/Job Code\")))+1),\n",
    "                ((\"Resource (Utilization Target %)/Job Code\")))) ELSE \"Resource (Utilization Target %)/Job Code\"\n",
    "                END \"\"\",\n",
    "            \"\"\"UPDATE rft_p6 set Utilization_Target_percent=CASE WHEN \"Resource (Utilization Target %)/Job Code\" LIKE '%-%' then  RIGHT(\"Resource (Utilization Target %)/Job Code\", \n",
    "               CHARINDEX('(', (reverse(\"Resource (Utilization Target %)/Job Code\")))) ELSE 'NA' END\"\"\",\n",
    "            \"\"\"UPDATE rft_p6 SET Utilization_Target=CASE\n",
    "                WHEN \"Resource (Utilization Target %)/Job Code\" LIKE '%-%' \n",
    "                THEN dbo.UDF_ExtractNumbers(Utilization_Target_percent) \n",
    "                ELSE 0 END\"\"\",\n",
    "            \"\"\"UPDATE rft_p6 SET employee_code=CASE\n",
    "                WHEN \"Resource (Utilization Target %)/Job Code\" LIKE '%-%' \n",
    "                THEN   \n",
    "                SUBSTRING(\"Resource (Utilization Target %)/Job Code\",\n",
    "                LEN(LEFT(\"Resource (Utilization Target %)/Job Code\",\n",
    "                CHARINDEX('-', \"Resource (Utilization Target %)/Job Code\")+1)),\n",
    "                LEN(\"Resource (Utilization Target %)/Job Code\") - LEN(LEFT(\"Resource (Utilization Target %)/Job Code\",\n",
    "                CHARINDEX('-', \"Resource (Utilization Target %)/Job Code\"))) - LEN(RIGHT(\"Resource (Utilization Target %)/Job Code\",\n",
    "                CHARINDEX(' ', (REVERSE(\"Resource (Utilization Target %)/Job Code\"))))))\n",
    "                ELSE \"Resource (Utilization Target %)/Job Code\"\n",
    "                END\"\"\",\n",
    "            \"\"\"UPDATE rft_p6 SET employee_code=CASE\n",
    "                WHEN \"Resource (Utilization Target %)/Job Code\" LIKE '%-%' \n",
    "                THEN dbo.UDF_ExtractNumbers(employee_code) \n",
    "                ELSE 0 END\"\"\",\n",
    "            \"\"\"INSERT INTO UT (\"Resource (UTilization Target %)/Job Code\")\n",
    "                 SELECT distinct T1.\"Resource (UTilization Target %)/Job Code\" \n",
    "                 FROM rft_p6 T1\n",
    "                 LEFT JOIN UT t2\n",
    "                 ON T1.\"Resource (UTilization Target %)/Job Code\" = T2.\"Resource (UTilization Target %)/Job Code\" WHERE T2.\"Resource (UTilization Target %)/Job Code\" IS NULL;\"\"\",\n",
    "             \"\"\"UPDATE UT SET Resource_Name=CASE\n",
    "                 WHEN \"Resource (UTilization Target %)/Job Code\" LIKE '%-%' \n",
    "                 THEN left(\"Resource (UTilization Target %)/Job Code\", \n",
    "                 CHARINDEX(right(\"Resource (UTilization Target %)/Job Code\", \n",
    "                 CHARINDEX('-', (reverse(\"Resource (UTilization Target %)/Job Code\")))+1),\n",
    "                 ((\"Resource (UTilization Target %)/Job Code\")))) ELSE \"Resource (UTilization Target %)/Job Code\"\n",
    "                 END;\"\"\",\n",
    "             \"\"\"update UT SET UTilization_Target_percent=case when \"Resource (UTilization Target %)/Job Code\" LIKE '%-%' then  right(\"Resource (UTilization Target %)/Job Code\", \n",
    "                 CHARINDEX('(', (reverse(\"Resource (UTilization Target %)/Job Code\")))) ELSE 'NA' end;\"\"\",\n",
    "                 \"\"\"UPDATE UT SET UTilization_Target=CASE\n",
    "                 WHEN \"Resource (UTilization Target %)/Job Code\" LIKE '%-%' \n",
    "                 THEN dbo.UDF_ExtractNumbers(UTilization_Target_percent) \n",
    "                 ELSE 0 end;\"\"\",\n",
    "             \"\"\"UPDATE UT SET employee_code=CASE\n",
    "                 WHEN \"Resource (UTilization Target %)/Job Code\" LIKE '%-%' \n",
    "                 THEN   \n",
    "                 SUBSTRING(\"Resource (UTilization Target %)/Job Code\",\n",
    "                 LEN(LEFT(\"Resource (UTilization Target %)/Job Code\",\n",
    "                 CHARINDEX('-', \"Resource (UTilization Target %)/Job Code\")+1)),\n",
    "                 LEN(\"Resource (UTilization Target %)/Job Code\") - LEN(LEFT(\"Resource (UTilization Target %)/Job Code\",\n",
    "                 CHARINDEX('-', \"Resource (UTilization Target %)/Job Code\"))) - LEN(RIGHT(\"Resource (UTilization Target %)/Job Code\",\n",
    "                 CHARINDEX(' ', (REVERSE(\"Resource (UTilization Target %)/Job Code\"))))))\n",
    "                 ELSE \"Resource (UTilization Target %)/Job Code\"\n",
    "                 END;\"\"\",\n",
    "             \"\"\"UPDATE UT SET employee_code=CASE\n",
    "                 WHEN \"Resource (UTilization Target %)/Job Code\" LIKE '%-%' \n",
    "                 THEN dbo.UDF_ExtractNumbers(employee_code) \n",
    "                 ELSE 0 end;\"\"\",\n",
    "             \"\"\"delete from UT where \"UTilization_Target_percent\" LIKE '%Inactive%';\"\"\",\n",
    "             \"\"\"WITH CTE AS  \n",
    "                (  \n",
    "                   SELECT *, ROW_NUMBER() over (PARTITION BY \"Resource_Name\" ORDER BY \"Resource_Name\") as rk  \n",
    "                   FROM UT\n",
    "                )  \n",
    "                DELETE FROM CTE WHERE rk >1\"\"\",\n",
    "            \"\"\"UPDATE ut\n",
    "SET \"Jan-23\"= (40*4*Utilization_Target)/100.0, \"Feb-23\"= (40*4*Utilization_Target)/100.0,\n",
    "    \"Mar-23\"= (40*5*Utilization_Target)/100.0, \"Apr-23\"= (40*4*Utilization_Target)/100.0,\n",
    "    \"May-23\"= (40*4*Utilization_Target)/100.0, \"Jun-23\"= (40*5*Utilization_Target)/100.0,\n",
    "    \"Jul-23\"= (40*4*Utilization_Target)/100.0, \"Aug-23\"= (40*4*Utilization_Target)/100.0,\n",
    "    \"Sep-23\"= (40*5*Utilization_Target)/100.0, \"Oct-23\"= (40*4*Utilization_Target)/100.0,\n",
    "    \"Nov-23\"= (40*4*Utilization_Target)/100.0, \"Dec-23\"= (40*5*Utilization_Target)/100.0\"\"\",\n",
    "          \"\"\"UPDATE ut\n",
    "SET \"Jan-24\"= (40*4*Utilization_Target)/100.0, \"Feb-24\"= (40*4*Utilization_Target)/100.0,\n",
    "    \"Mar-24\"= (40*5*Utilization_Target)/100.0, \"Apr-24\"= (40*4*Utilization_Target)/100.0,\n",
    "    \"May-24\"= (40*4*Utilization_Target)/100.0, \"Jun-24\"= (40*5*Utilization_Target)/100.0,\n",
    "    \"Jul-24\"= (40*4*Utilization_Target)/100.0, \"Aug-24\"= (40*4*Utilization_Target)/100.0,\n",
    "    \"Sep-24\"= (40*5*Utilization_Target)/100.0, \"Oct-24\"= (40*4*Utilization_Target)/100.0,\n",
    "    \"Nov-24\"= (40*4*Utilization_Target)/100.0, \"Dec-24\"= (40*5*Utilization_Target)/100.0\"\"\",\n",
    "          \"\"\"UPDATE ut\n",
    "SET \"Jan-25\"= (40*4*Utilization_Target)/100.0, \"Feb-25\"= (40*4*Utilization_Target)/100.0,\n",
    "    \"Mar-25\"= (40*5*Utilization_Target)/100.0, \"Apr-25\"= (40*4*Utilization_Target)/100.0,\n",
    "    \"May-25\"= (40*4*Utilization_Target)/100.0, \"Jun-25\"= (40*5*Utilization_Target)/100.0,\n",
    "    \"Jul-25\"= (40*4*Utilization_Target)/100.0, \"Aug-25\"= (40*4*Utilization_Target)/100.0,\n",
    "    \"Sep-25\"= (40*5*Utilization_Target)/100.0, \"Oct-25\"= (40*4*Utilization_Target)/100.0,\n",
    "    \"Nov-25\"= (40*4*Utilization_Target)/100.0, \"Dec-25\"= (40*5*Utilization_Target)/100.0\"\"\",\n",
    "          \"\"\"UPDATE ut\n",
    "SET \"Jan-26\"= (40*4*Utilization_Target)/100.0, \"Feb-26\"= (40*4*Utilization_Target)/100.0,\n",
    "    \"Mar-26\"= (40*5*Utilization_Target)/100.0, \"Apr-26\"= (40*4*Utilization_Target)/100.0,\n",
    "    \"May-26\"= (40*4*Utilization_Target)/100.0, \"Jun-26\"= (40*5*Utilization_Target)/100.0,\n",
    "    \"Jul-26\"= (40*4*Utilization_Target)/100.0, \"Aug-26\"= (40*4*Utilization_Target)/100.0,\n",
    "    \"Sep-26\"= (40*5*Utilization_Target)/100.0, \"Oct-26\"= (40*4*Utilization_Target)/100.0,\n",
    "    \"Nov-26\"= (40*4*Utilization_Target)/100.0, \"Dec-26\"= (40*5*Utilization_Target)/100.0\"\"\",\n",
    "          \"\"\"UPDATE ut\n",
    "SET \"Jan-27\"= (40*4*Utilization_Target)/100.0, \"Feb-27\"= (40*4*Utilization_Target)/100.0,\n",
    "    \"Mar-27\"= (40*5*Utilization_Target)/100.0, \"Apr-27\"= (40*4*Utilization_Target)/100.0,\n",
    "    \"May-27\"= (40*4*Utilization_Target)/100.0, \"Jun-27\"= (40*5*Utilization_Target)/100.0,\n",
    "    \"Jul-27\"= (40*4*Utilization_Target)/100.0, \"Aug-27\"= (40*4*Utilization_Target)/100.0,\n",
    "    \"Sep-27\"= (40*5*Utilization_Target)/100.0, \"Oct-27\"= (40*4*Utilization_Target)/100.0,\n",
    "    \"Nov-27\"= (40*4*Utilization_Target)/100.0, \"Dec-27\"= (40*5*Utilization_Target)/100.0\"\"\",\n",
    "          \"\"\"UPDATE ut\n",
    "SET \"Jan-28\"= (40*4*Utilization_Target)/100.0, \"Feb-28\"= (40*4*Utilization_Target)/100.0,\n",
    "    \"Mar-28\"= (40*5*Utilization_Target)/100.0, \"Apr-28\"= (40*4*Utilization_Target)/100.0,\n",
    "    \"May-28\"= (40*4*Utilization_Target)/100.0, \"Jun-28\"= (40*5*Utilization_Target)/100.0,\n",
    "    \"Jul-28\"= (40*4*Utilization_Target)/100.0, \"Aug-28\"= (40*4*Utilization_Target)/100.0,\n",
    "    \"Sep-28\"= (40*5*Utilization_Target)/100.0, \"Oct-28\"= (40*4*Utilization_Target)/100.0,\n",
    "    \"Nov-28\"= (40*4*Utilization_Target)/100.0, \"Dec-28\"= (40*5*Utilization_Target)/100.0\"\"\",\n",
    "          \"\"\"UPDATE ut\n",
    "SET \"Jan-29\"= (40*4*Utilization_Target)/100.0, \"Feb-29\"= (40*4*Utilization_Target)/100.0,\n",
    "    \"Mar-29\"= (40*5*Utilization_Target)/100.0, \"Apr-29\"= (40*4*Utilization_Target)/100.0,\n",
    "    \"May-29\"= (40*4*Utilization_Target)/100.0, \"Jun-29\"= (40*5*Utilization_Target)/100.0,\n",
    "    \"Jul-29\"= (40*4*Utilization_Target)/100.0, \"Aug-29\"= (40*4*Utilization_Target)/100.0,\n",
    "    \"Sep-29\"= (40*5*Utilization_Target)/100.0, \"Oct-29\"= (40*4*Utilization_Target)/100.0,\n",
    "    \"Nov-29\"= (40*4*Utilization_Target)/100.0, \"Dec-29\"= (40*5*Utilization_Target)/100.0\"\"\",\n",
    "          \"\"\"UPDATE ut\n",
    "SET \"Jan-30\"= (40*4*Utilization_Target)/100.0, \"Feb-30\"= (40*4*Utilization_Target)/100.0,\n",
    "    \"Mar-30\"= (40*5*Utilization_Target)/100.0, \"Apr-30\"= (40*4*Utilization_Target)/100.0,\n",
    "    \"May-30\"= (40*4*Utilization_Target)/100.0, \"Jun-30\"= (40*5*Utilization_Target)/100.0,\n",
    "    \"Jul-30\"= (40*4*Utilization_Target)/100.0, \"Aug-30\"= (40*4*Utilization_Target)/100.0,\n",
    "    \"Sep-30\"= (40*5*Utilization_Target)/100.0, \"Oct-30\"= (40*4*Utilization_Target)/100.0,\n",
    "    \"Nov-30\"= (40*4*Utilization_Target)/100.0, \"Dec-30\"= (40*5*Utilization_Target)/100.0\"\"\"]"
   ]
  },
  {
   "cell_type": "code",
   "execution_count": 6,
   "id": "d7ba74c7",
   "metadata": {},
   "outputs": [],
   "source": [
    "for i in rft_query:\n",
    "    mycursor.execute(i)"
   ]
  },
  {
   "cell_type": "code",
   "execution_count": 7,
   "id": "768e445e",
   "metadata": {},
   "outputs": [],
   "source": [
    "conn.commit()"
   ]
  },
  {
   "cell_type": "code",
   "execution_count": 8,
   "id": "7c1d18d6",
   "metadata": {},
   "outputs": [],
   "source": [
    "import pandas as pd\n",
    "list1 =[]\n",
    "data = pd.DataFrame(list1, columns=['Executed'])\n",
    "data.to_excel('Executed.xlsx')"
   ]
  },
  {
   "cell_type": "code",
   "execution_count": null,
   "id": "ecd4b731",
   "metadata": {},
   "outputs": [],
   "source": []
  }
 ],
 "metadata": {
  "kernelspec": {
   "display_name": "Python 3 (ipykernel)",
   "language": "python",
   "name": "python3"
  },
  "language_info": {
   "codemirror_mode": {
    "name": "ipython",
    "version": 3
   },
   "file_extension": ".py",
   "mimetype": "text/x-python",
   "name": "python",
   "nbconvert_exporter": "python",
   "pygments_lexer": "ipython3",
   "version": "3.10.9"
  }
 },
 "nbformat": 4,
 "nbformat_minor": 5
}
